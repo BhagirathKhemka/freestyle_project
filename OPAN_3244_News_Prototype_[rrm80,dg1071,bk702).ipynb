{
  "nbformat": 4,
  "nbformat_minor": 0,
  "metadata": {
    "colab": {
      "provenance": []
    },
    "kernelspec": {
      "name": "python3",
      "display_name": "Python 3"
    },
    "language_info": {
      "name": "python"
    }
  },
  "cells": [
    {
      "cell_type": "markdown",
      "source": [
        "#OPAN 3244 News Prototpye: Rohan, Bhagirath, Dhruv\n",
        "\n",
        "This prototype uses a NEWS API that pulls breaking news articles based on an inputted country, topic, or news source. Use cases can involve college students looking to get up to date very quickly on current day news, or debaters needing to get information quickly regarding a topic. Once emailing features are implemented, one specific avenue this prototype can explore is creating personalized email newsletters.\n",
        "\n",
        "The link to the API is https://newsapi.org/\n",
        "\n",
        "You will be required to register in order to acquire an API key. This will just require inputing a name, email, and attesting you are an individual.\n",
        "\n",
        "Once gaining an API key, store it as a google secret named NEWS_API.\n"
      ],
      "metadata": {
        "id": "yJWbuqV6gKCn"
      }
    },
    {
      "cell_type": "code",
      "execution_count": null,
      "metadata": {
        "id": "UAA3k1D7fcLY"
      },
      "outputs": [],
      "source": [
        "!pip install newsapi-python\n",
        "from newsapi import NewsApiClient\n",
        "from google.colab import userdata\n",
        "import requests\n",
        "from datetime import datetime\n",
        "import pytz #to convert time to EST\n",
        "from IPython.display import Image, display"
      ]
    },
    {
      "cell_type": "code",
      "source": [
        "#Playing around with the API, seeing what sources are provided\n",
        "api_key = userdata.get('NEWS_API')\n",
        "newsapi = NewsApiClient(api_key=api_key)\n",
        "sources = newsapi.get_sources()\n",
        "for source in sources['sources']:\n",
        "        print(source['name'])"
      ],
      "metadata": {
        "id": "enPys7CflLea",
        "collapsed": true
      },
      "execution_count": null,
      "outputs": []
    },
    {
      "cell_type": "code",
      "source": [
        "def get_user_topic():\n",
        "    print(\"Get your top news snapshot now!\")\n",
        "    print(\"Do you want to filter by:\") #API does not allow category and news source filters to be used simultaneously\n",
        "    print(\"1. Category (e.g., General, Technology, etc.)\")\n",
        "    print(\"2. Specific News Sources (e.g., BBC News, CNN, etc.)\")\n",
        "    choice = input(\"Enter 1 for Category or 2 for Sources (default is 1): \")\n",
        "\n",
        "    topic, sources = None, None\n",
        "\n",
        "    if choice == '2':\n",
        "        print(\"Select Specific Sources (comma-separated, e.g., BBC News, CNN, The Wall Street Journal).\")\n",
        "        sources = input(\"Enter sources: \")\n",
        "        sources_input = input(\"Enter sources: \")\n",
        "        sources = [source.strip().lower().replace(\" \", \"-\") for source in sources_input.split(',')]\n",
        "        #if a user wants to filter on BBC News, the code must read bbc-news, creates one string of sources\n",
        "    else:\n",
        "        print(\"Select a Category:\")\n",
        "        print(\"1. General\\n2. Technology\\n3. Health\\n4. Sports\\n5. Business\\n6. Entertainment\")\n",
        "        category_choice = input(\"Enter a number from 1-6 (default is General): \")\n",
        "\n",
        "        topics = {\n",
        "            '1': \"general\",\n",
        "            '2': 'technology',\n",
        "            '3': 'health',\n",
        "            '4': 'sports',\n",
        "            '5': 'business',\n",
        "            '6': 'entertainment'\n",
        "        }\n",
        "        topic = topics.get(category_choice, \"general\")\n",
        "\n",
        "    keyword = input(\"Enter a keyword to search for (optional): \") #API is a little finnicky on this part\n",
        "    num_headlines = int(input(\"How many headlines would you like to see? (default is 5): \") or 5)\n",
        "\n",
        "    return topic, keyword, num_headlines, sources\n",
        "\n",
        "def show_image(image_url):\n",
        "    display(Image(url=image_url,width=750, height=500)) #eventually change so pictures don't look stretched\n",
        "\n",
        "def convert_to_est(published_at):\n",
        "    utc_time = datetime.strptime(published_at, '%Y-%m-%dT%H:%M:%S%z')\n",
        "    est_tz = pytz.timezone('US/Eastern')\n",
        "    est_time = utc_time.astimezone(est_tz)\n",
        "    return est_time.strftime(\"%B %d, %Y %I:%M %p EST\")\n",
        "\n",
        "def collect_news(topic, keyword, num_headlines, sources):\n",
        "    if sources:\n",
        "        top_headlines = newsapi.get_top_headlines(\n",
        "            q=keyword or None,\n",
        "            sources=','.join(sources),\n",
        "            language=\"en\"\n",
        "        )\n",
        "    else:\n",
        "        top_headlines = newsapi.get_top_headlines(\n",
        "            q=keyword or None,\n",
        "            category=topic,\n",
        "            language=\"en\"\n",
        "        )\n",
        "\n",
        "    headline_number = 1\n",
        "    headlines = []\n",
        "\n",
        "    print(f\"\\nTop {num_headlines} Headlines for {sources or topic.capitalize()}\")\n",
        "    for article in top_headlines['articles']:\n",
        "        if article['title'] != '[Removed]' and headline_number <= num_headlines:\n",
        "            published_date = convert_to_est(article['publishedAt'])\n",
        "            headline = (f\"{headline_number}. {article['title']}\\n\"\n",
        "                        f\"Source: {article['source']['name']}\\n\"\n",
        "                        f\"Description: {article['description']}\\n\"\n",
        "                        f\"PPublished: {published_date}\\n\"\n",
        "                        f\"Link: {article['url']}\\n\")\n",
        "            print(headline)\n",
        "            if article.get('urlToImage'):\n",
        "                    show_image(article['urlToImage'])\n",
        "            headlines.append(headline)\n",
        "            headline_number += 1\n",
        "\n",
        "    if not headlines:\n",
        "        print(\"No articles found for your query.\")\n",
        "    return headlines\n",
        "\n",
        "\n",
        "def main():\n",
        "    topic, keyword, num_headlines, sources = get_user_topic()\n",
        "    headlines = collect_news(topic, keyword, num_headlines, sources)\n",
        "\n",
        "main()\n",
        "\n",
        "#Implement email sending here in order to save the results.\n"
      ],
      "metadata": {
        "id": "ilEb3uvs2bmF"
      },
      "execution_count": null,
      "outputs": []
    },
    {
      "cell_type": "markdown",
      "source": [
        "#Features to implement and think about:\n",
        "\n",
        "Possible Items that can be achieved **NOW**:\n",
        "\n",
        "\n",
        "*   Implement Email Sending Function via Mailgun\n",
        "*   Resize Images so they keep original ratio, but do not exceed 1000 pixels in any direction\n",
        "\n",
        "Powerful features that will require **additional examination**:\n",
        "\n",
        "\n",
        "*   Using some sort of NLP to provide short summaries of articles\n",
        "*   (1) Provide article word counts then (2) allow users to filter articles based on word count\n",
        "*   Locally bookmark articles\n",
        "\n",
        "\n",
        "\n",
        "Features that will increase user-friendliness **with web design**:\n",
        "\n",
        "\n",
        "*   Use a multiselect drop down menu to select sources\n",
        "*   Filter on dates and word count\n",
        "*   Locally saved articles are stored in a different webpage\n",
        "\n",
        "\n",
        "\n",
        "\n",
        "\n"
      ],
      "metadata": {
        "id": "4evrUE-X4BRJ"
      }
    }
  ]
}